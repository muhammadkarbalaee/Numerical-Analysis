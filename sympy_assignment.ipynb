{
  "cells": [
    {
      "cell_type": "markdown",
      "metadata": {
        "id": "nzpXXsN1RAhR"
      },
      "source": [
        "# Sympy Assignment\n",
        "__Author__ : Mohammad Karbalaee , 99222085\n",
        "\n",
        "__Course__ : Undergraduate Numerical Analysis Course\n"
      ]
    },
    {
      "cell_type": "code",
      "execution_count": 1,
      "metadata": {
        "id": "eik6WTt1RAhY"
      },
      "outputs": [],
      "source": [
        "import numpy as np\n",
        "import pandas as pd\n",
        "import matplotlib.pyplot as plt\n",
        "import sympy as sp"
      ]
    },
    {
      "cell_type": "markdown",
      "metadata": {
        "id": "vmtM3tHkRAhd"
      },
      "source": [
        "## Problem 1\n",
        "### Symbolic Differentiation\n",
        "Find the derivative of the following functions using Sympy:\n",
        "\n",
        "(a) $f(x) = x^3 - 2x^2 + 5x - 7$<br>\n",
        "(b) $g(x) = \\frac{1}{x^2 + 1}$<br>\n",
        "(c) $h(x) = e^{2x}\\cos (x)$"
      ]
    },
    {
      "cell_type": "markdown",
      "metadata": {
        "id": "MINi8ytWRAhf"
      },
      "source": [
        "### Part a)\n",
        "Find the derivative of $f(x)$"
      ]
    },
    {
      "cell_type": "code",
      "execution_count": 2,
      "metadata": {
        "colab": {
          "base_uri": "https://localhost:8080/",
          "height": 39
        },
        "id": "WILD1Si9RAhg",
        "outputId": "c72b5aeb-21d5-40b2-ddbb-5a7ff1704b01"
      },
      "outputs": [
        {
          "output_type": "execute_result",
          "data": {
            "text/plain": [
              "3*x**2 - 4*x + 5"
            ],
            "text/latex": "$\\displaystyle 3 x^{2} - 4 x + 5$"
          },
          "metadata": {},
          "execution_count": 2
        }
      ],
      "source": [
        "x = sp.symbols('x')\n",
        "f = x**3 - 2*x**2 + 5*x - 7\n",
        "f_prime = f.diff(x)\n",
        "f_prime"
      ]
    },
    {
      "cell_type": "markdown",
      "metadata": {
        "id": "TFIOOhL_RAhk"
      },
      "source": [
        "### Part b)\n",
        "Find the derivative of $g(x)$"
      ]
    },
    {
      "cell_type": "code",
      "execution_count": 3,
      "metadata": {
        "colab": {
          "base_uri": "https://localhost:8080/",
          "height": 58
        },
        "id": "Mr3Dxyx9RAhl",
        "outputId": "c9240074-caad-4200-aac6-36175783d2de"
      },
      "outputs": [
        {
          "output_type": "execute_result",
          "data": {
            "text/plain": [
              "-2*x/(x**2 + 1)**2"
            ],
            "text/latex": "$\\displaystyle - \\frac{2 x}{\\left(x^{2} + 1\\right)^{2}}$"
          },
          "metadata": {},
          "execution_count": 3
        }
      ],
      "source": [
        "x = sp.symbols('x')\n",
        "g = 1 / (x**2 + 1)\n",
        "g_prime = g.diff(x)\n",
        "g_prime"
      ]
    },
    {
      "cell_type": "markdown",
      "metadata": {
        "id": "7O--PxJpRAhm"
      },
      "source": [
        "### Part c)\n",
        "Find the derivative of $h(x)$"
      ]
    },
    {
      "cell_type": "code",
      "execution_count": 4,
      "metadata": {
        "colab": {
          "base_uri": "https://localhost:8080/",
          "height": 39
        },
        "id": "f6tWU-17RAhn",
        "outputId": "3bc2712d-3029-4595-f2a6-e120ed613484"
      },
      "outputs": [
        {
          "output_type": "execute_result",
          "data": {
            "text/plain": [
              "-exp(2*x)*sin(x) + 2*exp(2*x)*cos(x)"
            ],
            "text/latex": "$\\displaystyle - e^{2 x} \\sin{\\left(x \\right)} + 2 e^{2 x} \\cos{\\left(x \\right)}$"
          },
          "metadata": {},
          "execution_count": 4
        }
      ],
      "source": [
        "x = sp.symbols('x')\n",
        "h = sp.exp(2 * x) * sp.cos(x)\n",
        "h_prime = h.diff(x)\n",
        "h_prime"
      ]
    },
    {
      "cell_type": "markdown",
      "metadata": {
        "id": "IaMyEqiRRAho"
      },
      "source": [
        "## Problem 2\n",
        "### Symbolic Integration\n",
        "Find the indefinite integral of the following functions using Sympy:\n",
        "\n",
        "(a) $f(x) = 2x + 5$<br>\n",
        "(b) $g(x) = \\frac{1}{x^2 + 1}$<br>\n",
        "(c) $h(x) = \\frac{x^3}{3} - 2x^2 + 5x - 7$"
      ]
    },
    {
      "cell_type": "markdown",
      "metadata": {
        "id": "q1dzb67aRAhp"
      },
      "source": [
        "### Part a)\n",
        "Find the indefinite integral of $f(x)$"
      ]
    },
    {
      "cell_type": "code",
      "execution_count": 5,
      "metadata": {
        "colab": {
          "base_uri": "https://localhost:8080/",
          "height": 39
        },
        "id": "SIZ4S5cCRAhq",
        "outputId": "fb2c29c2-66b8-4050-b4df-4fc2ca8abfba"
      },
      "outputs": [
        {
          "output_type": "execute_result",
          "data": {
            "text/plain": [
              "x**2 + 5*x"
            ],
            "text/latex": "$\\displaystyle x^{2} + 5 x$"
          },
          "metadata": {},
          "execution_count": 5
        }
      ],
      "source": [
        "x = sp.symbols('x')\n",
        "f = 2*x + 5\n",
        "f_integral = sp.integrate(f, x)\n",
        "f_integral"
      ]
    },
    {
      "cell_type": "markdown",
      "metadata": {
        "id": "Um-n3if6RAhr"
      },
      "source": [
        "### Part b)\n",
        "Find the indefinite integral of $g(x)$"
      ]
    },
    {
      "cell_type": "code",
      "execution_count": 6,
      "metadata": {
        "colab": {
          "base_uri": "https://localhost:8080/",
          "height": 39
        },
        "id": "WC1nJ1TlRAhs",
        "outputId": "ebf7e27d-814f-4b5d-d4ff-10d9387a354f"
      },
      "outputs": [
        {
          "output_type": "execute_result",
          "data": {
            "text/plain": [
              "atan(x)"
            ],
            "text/latex": "$\\displaystyle \\operatorname{atan}{\\left(x \\right)}$"
          },
          "metadata": {},
          "execution_count": 6
        }
      ],
      "source": [
        "x = sp.symbols('x')\n",
        "g = 1 / (x**2 + 1)\n",
        "g_integral = sp.integrate(g, x)\n",
        "g_integral"
      ]
    },
    {
      "cell_type": "markdown",
      "metadata": {
        "id": "O_M1_Go-RAht"
      },
      "source": [
        "### Part c)\n",
        "Find the indefinite integral of $h(x)$"
      ]
    },
    {
      "cell_type": "code",
      "execution_count": 7,
      "metadata": {
        "colab": {
          "base_uri": "https://localhost:8080/",
          "height": 54
        },
        "id": "z6upyVqwRAht",
        "outputId": "3a6aae65-9fba-4d43-a06c-f75c62c5b925"
      },
      "outputs": [
        {
          "output_type": "execute_result",
          "data": {
            "text/plain": [
              "x**4/12 - 2*x**3/3 + 5*x**2/2 - 7*x"
            ],
            "text/latex": "$\\displaystyle \\frac{x^{4}}{12} - \\frac{2 x^{3}}{3} + \\frac{5 x^{2}}{2} - 7 x$"
          },
          "metadata": {},
          "execution_count": 7
        }
      ],
      "source": [
        "x = sp.symbols('x')\n",
        "h = x**3/3 - 2*x**2 + 5*x - 7\n",
        "h_integral = sp.integrate(h, x)\n",
        "h_integral"
      ]
    },
    {
      "cell_type": "markdown",
      "metadata": {
        "id": "KgQ84_2VRAhu"
      },
      "source": [
        "## Problem 3\n",
        "### Solving Equations\n",
        "Solve the following equations using Sympy:\n",
        "\n",
        "(a) $x^2 - 3x + 2 = 0$<br>\n",
        "(b) $e^x + x - 1 = 0$<br>\n",
        "(c) $\\cos (x) = \\frac{1}{2}$"
      ]
    },
    {
      "cell_type": "markdown",
      "metadata": {
        "id": "jrCYtQjcRAhv"
      },
      "source": [
        "### Part a)\n",
        "Solve the equation (a)"
      ]
    },
    {
      "cell_type": "code",
      "execution_count": 9,
      "metadata": {
        "colab": {
          "base_uri": "https://localhost:8080/"
        },
        "id": "sB2VRuVuRAhw",
        "outputId": "04b494df-0774-4a8b-fdf3-99c7ed17a5d2"
      },
      "outputs": [
        {
          "output_type": "execute_result",
          "data": {
            "text/plain": [
              "[1, 2]"
            ]
          },
          "metadata": {},
          "execution_count": 9
        }
      ],
      "source": [
        "x = sp.symbols('x')\n",
        "equation = sp.Eq(x**2 - 3*x + 2, 0)\n",
        "solution = sp.solve(equation, x)\n",
        "solution"
      ]
    },
    {
      "cell_type": "markdown",
      "metadata": {
        "id": "sjYTMrY9RAhx"
      },
      "source": [
        "### Part b)\n",
        "Solve the equation (b)"
      ]
    },
    {
      "cell_type": "code",
      "execution_count": 11,
      "metadata": {
        "colab": {
          "base_uri": "https://localhost:8080/"
        },
        "id": "6dbcih4ZRAhy",
        "outputId": "646edd12-4fe8-431b-82da-a2fa9db1263c"
      },
      "outputs": [
        {
          "output_type": "execute_result",
          "data": {
            "text/plain": [
              "[0]"
            ]
          },
          "metadata": {},
          "execution_count": 11
        }
      ],
      "source": [
        "x = sp.symbols('x')\n",
        "equation = sp.Eq(sp.exp(x) + x - 1, 0)\n",
        "solution = sp.solve(equation, x)\n",
        "solution"
      ]
    },
    {
      "cell_type": "markdown",
      "metadata": {
        "id": "jzh-twdvRAhz"
      },
      "source": [
        "### Part c)\n",
        "Solve the equation (c)"
      ]
    },
    {
      "cell_type": "code",
      "execution_count": 13,
      "metadata": {
        "colab": {
          "base_uri": "https://localhost:8080/"
        },
        "id": "4UY7Umj3RAhz",
        "outputId": "37858a05-e67f-4f6b-ebde-94e202142fb6"
      },
      "outputs": [
        {
          "output_type": "execute_result",
          "data": {
            "text/plain": [
              "[1.04719755119660, 5.23598775598299]"
            ]
          },
          "metadata": {},
          "execution_count": 13
        }
      ],
      "source": [
        "x = sp.symbols('x')\n",
        "equation = sp.Eq(sp.cos(x), 1 / 2)\n",
        "solution = sp.solve(equation, x)\n",
        "solution"
      ]
    },
    {
      "cell_type": "markdown",
      "metadata": {
        "id": "0IvKAIK4RAh0"
      },
      "source": [
        "## Problem 4\n",
        "### Advanced Sympy\n",
        "Use Sympy to find the first 10 terms of the Fourier series of the following function over the interval $[-\\pi, \\pi]$:\n",
        "\n",
        "$\n",
        "   f(x) = \n",
        "    \\begin{cases}\n",
        "      \\text{0,} & -\\pi\\le x<0\\\\\n",
        "      \\text{1,} & 0\\le x<\\pi\\\\\n",
        "    \\end{cases}\n",
        "$"
      ]
    },
    {
      "cell_type": "code",
      "execution_count": 17,
      "metadata": {
        "colab": {
          "base_uri": "https://localhost:8080/",
          "height": 53
        },
        "id": "bmLUGqZ5RAh2",
        "outputId": "d7235008-68b9-43b6-9772-a29cfed86adc"
      },
      "outputs": [
        {
          "output_type": "execute_result",
          "data": {
            "text/plain": [
              "2*sin(x)/pi + 2*sin(3*x)/(3*pi) + 2*sin(5*x)/(5*pi) + 2*sin(7*x)/(7*pi) + 2*sin(9*x)/(9*pi) + 2*sin(11*x)/(11*pi) + 2*sin(13*x)/(13*pi) + 2*sin(15*x)/(15*pi) + 2*sin(17*x)/(17*pi) + 1/2"
            ],
            "text/latex": "$\\displaystyle \\frac{2 \\sin{\\left(x \\right)}}{\\pi} + \\frac{2 \\sin{\\left(3 x \\right)}}{3 \\pi} + \\frac{2 \\sin{\\left(5 x \\right)}}{5 \\pi} + \\frac{2 \\sin{\\left(7 x \\right)}}{7 \\pi} + \\frac{2 \\sin{\\left(9 x \\right)}}{9 \\pi} + \\frac{2 \\sin{\\left(11 x \\right)}}{11 \\pi} + \\frac{2 \\sin{\\left(13 x \\right)}}{13 \\pi} + \\frac{2 \\sin{\\left(15 x \\right)}}{15 \\pi} + \\frac{2 \\sin{\\left(17 x \\right)}}{17 \\pi} + \\frac{1}{2}$"
          },
          "metadata": {},
          "execution_count": 17
        }
      ],
      "source": [
        "x = sp.symbols('x')\n",
        "expression = sp.Piecewise((0, sp.Interval(-sp.pi, 0, False, True).contains(x)),\n",
        "                    (1, sp.Interval(0, sp.pi, False, True).contains(x)))\n",
        "fourier_series_expression = sp.fourier_series(expression, (x, -sp.pi, sp.pi))\n",
        "fourier_series_expression.truncate(10)"
      ]
    },
    {
      "cell_type": "markdown",
      "metadata": {
        "id": "mcwupuGbRAh3"
      },
      "source": [
        "## Problem 5\n",
        "### Application of Sympy (Bonus Question)\n",
        "Use Sympy to solve the following problem:\n",
        "\n",
        "\n",
        "A particle moves along the x-axis according to the equation $x = 3 sin(t) − 4 sin(2t)$, where $t$ is time. Find the velocity and acceleration of the particle as functions of time."
      ]
    },
    {
      "cell_type": "code",
      "execution_count": 18,
      "metadata": {
        "id": "YvBoYpy8RAiS"
      },
      "outputs": [],
      "source": [
        "t = sp.symbols('t')\n",
        "place = 3*sp.sin(t) - 4*sp.sin(2*t)\n",
        "velocity = place.diff(t)\n",
        "acceleration = velocity.diff(t)"
      ]
    },
    {
      "cell_type": "code",
      "execution_count": 19,
      "metadata": {
        "colab": {
          "base_uri": "https://localhost:8080/",
          "height": 39
        },
        "id": "ZfvJdjfORAiS",
        "outputId": "f0b4e9a3-6793-4fe3-dead-2e28fd2dd971"
      },
      "outputs": [
        {
          "output_type": "execute_result",
          "data": {
            "text/plain": [
              "3*cos(t) - 8*cos(2*t)"
            ],
            "text/latex": "$\\displaystyle 3 \\cos{\\left(t \\right)} - 8 \\cos{\\left(2 t \\right)}$"
          },
          "metadata": {},
          "execution_count": 19
        }
      ],
      "source": [
        "velocity"
      ]
    },
    {
      "cell_type": "code",
      "execution_count": 20,
      "metadata": {
        "colab": {
          "base_uri": "https://localhost:8080/",
          "height": 39
        },
        "id": "FL29HbGQRAiT",
        "outputId": "695c422a-4542-497a-87d7-b7529049dee4"
      },
      "outputs": [
        {
          "output_type": "execute_result",
          "data": {
            "text/plain": [
              "-3*sin(t) + 16*sin(2*t)"
            ],
            "text/latex": "$\\displaystyle - 3 \\sin{\\left(t \\right)} + 16 \\sin{\\left(2 t \\right)}$"
          },
          "metadata": {},
          "execution_count": 20
        }
      ],
      "source": [
        "acceleration"
      ]
    },
    {
      "cell_type": "markdown",
      "metadata": {
        "id": "HWltcfH0RAiU"
      },
      "source": [
        "## Conclusion for these problems\n",
        "We learnt that SymPy is a very handy tool for mathematical \n",
        "calculation and can be used for various reseans. "
      ]
    }
  ],
  "metadata": {
    "kernelspec": {
      "display_name": "Python 3 (ipykernel)",
      "language": "python",
      "name": "python3"
    },
    "language_info": {
      "codemirror_mode": {
        "name": "ipython",
        "version": 3
      },
      "file_extension": ".py",
      "mimetype": "text/x-python",
      "name": "python",
      "nbconvert_exporter": "python",
      "pygments_lexer": "ipython3",
      "version": "3.9.12"
    },
    "vscode": {
      "interpreter": {
        "hash": "aee8b7b246df8f9039afb4144a1f6fd8d2ca17a180786b69acc140d282b71a49"
      }
    },
    "colab": {
      "provenance": []
    }
  },
  "nbformat": 4,
  "nbformat_minor": 0
}