{
  "cells": [
    {
      "cell_type": "markdown",
      "source": [
        "# 1st Assignment\n",
        "### Newton's Approach for solving equation\n",
        "__Author: Mohammad Karblaee__"
      ],
      "metadata": {
        "id": "-8HYhrM6wE0z"
      }
    },
    {
      "cell_type": "code",
      "execution_count": 18,
      "metadata": {
        "id": "p9Ywi8wIvqJR"
      },
      "outputs": [],
      "source": [
        "import numpy as np \n",
        "import sympy as sp\n",
        "import matplotlib.pyplot as plt"
      ]
    },
    {
      "cell_type": "markdown",
      "source": [
        "The newton formula is defined in the following function."
      ],
      "metadata": {
        "id": "mSSo8iz_zUab"
      }
    },
    {
      "cell_type": "code",
      "execution_count": 19,
      "metadata": {
        "id": "K-I-LpbmvqJa"
      },
      "outputs": [],
      "source": [
        "def newton_function(f, f_prime, x0):\n",
        "    x1 = x0 - np.divide(f.subs(x,x0).evalf(20) , f_prime.subs(x,x0).evalf(20))\n",
        "    return x1"
      ]
    },
    {
      "cell_type": "code",
      "execution_count": 20,
      "metadata": {
        "id": "LSbwLeLRvqJf"
      },
      "outputs": [],
      "source": [
        "x = sp.symbols(\"x\")"
      ]
    },
    {
      "cell_type": "code",
      "execution_count": 21,
      "metadata": {
        "colab": {
          "base_uri": "https://localhost:8080/",
          "height": 39
        },
        "id": "ywrpXwX1vqJh",
        "outputId": "bf29b5c0-fbd1-45e7-aa52-97a613da6c17"
      },
      "outputs": [
        {
          "output_type": "execute_result",
          "data": {
            "text/plain": [
              "1 - sin(x)"
            ],
            "text/latex": "$\\displaystyle 1 - \\sin{\\left(x \\right)}$"
          },
          "metadata": {},
          "execution_count": 21
        }
      ],
      "source": [
        "f = x + sp.cos(x)\n",
        "f_prime = sp.diff(f)\n",
        "f_prime"
      ]
    },
    {
      "cell_type": "markdown",
      "source": [
        "The Newton function is called iteratively here. \n"
      ],
      "metadata": {
        "id": "1-d5q2sjz_-o"
      }
    },
    {
      "cell_type": "code",
      "execution_count": 24,
      "metadata": {
        "colab": {
          "base_uri": "https://localhost:8080/"
        },
        "id": "AT4l0ZltvqJn",
        "outputId": "a24fae26-3265-465f-e67d-55d4f9156a8e"
      },
      "outputs": [
        {
          "output_type": "stream",
          "name": "stdout",
          "text": [
            "In iteration 1's result is -1.0000000000000000000\n",
            "In iteration 2's result is -0.75036386784024389304\n",
            "In iteration 3's result is -0.73911289091136167036\n",
            "In iteration 4's result is -0.73908513338528396976\n",
            "In iteration 5's result is -0.73908513321516064166\n",
            "In iteration 6's result is -0.73908513321516064166\n",
            "In iteration 7's result is -0.73908513321516064166\n",
            "In iteration 8's result is -0.73908513321516064166\n",
            "In iteration 9's result is -0.73908513321516064166\n",
            "In iteration 10's result is -0.73908513321516064166\n",
            "In iteration 11's result is -0.73908513321516064166\n",
            "In iteration 12's result is -0.73908513321516064166\n",
            "In iteration 13's result is -0.73908513321516064166\n",
            "In iteration 14's result is -0.73908513321516064166\n",
            "In iteration 15's result is -0.73908513321516064166\n",
            "In iteration 16's result is -0.73908513321516064166\n",
            "In iteration 17's result is -0.73908513321516064166\n",
            "In iteration 18's result is -0.73908513321516064166\n",
            "In iteration 19's result is -0.73908513321516064166\n",
            "In iteration 20's result is -0.73908513321516064166\n",
            "In iteration 21's result is -0.73908513321516064166\n",
            "In iteration 22's result is -0.73908513321516064166\n",
            "In iteration 23's result is -0.73908513321516064166\n",
            "In iteration 24's result is -0.73908513321516064166\n",
            "In iteration 25's result is -0.73908513321516064166\n",
            "In iteration 26's result is -0.73908513321516064166\n",
            "In iteration 27's result is -0.73908513321516064166\n",
            "In iteration 28's result is -0.73908513321516064166\n",
            "In iteration 29's result is -0.73908513321516064166\n",
            "In iteration 30's result is -0.73908513321516064166\n",
            "In iteration 31's result is -0.73908513321516064166\n",
            "In iteration 32's result is -0.73908513321516064166\n",
            "In iteration 33's result is -0.73908513321516064166\n",
            "In iteration 34's result is -0.73908513321516064166\n",
            "In iteration 35's result is -0.73908513321516064166\n",
            "In iteration 36's result is -0.73908513321516064166\n",
            "In iteration 37's result is -0.73908513321516064166\n",
            "In iteration 38's result is -0.73908513321516064166\n",
            "In iteration 39's result is -0.73908513321516064166\n",
            "In iteration 40's result is -0.73908513321516064166\n",
            "In iteration 41's result is -0.73908513321516064166\n",
            "In iteration 42's result is -0.73908513321516064166\n",
            "In iteration 43's result is -0.73908513321516064166\n",
            "In iteration 44's result is -0.73908513321516064166\n",
            "In iteration 45's result is -0.73908513321516064166\n",
            "In iteration 46's result is -0.73908513321516064166\n",
            "In iteration 47's result is -0.73908513321516064166\n",
            "In iteration 48's result is -0.73908513321516064166\n",
            "In iteration 49's result is -0.73908513321516064166\n",
            "In iteration 50's result is -0.73908513321516064166\n",
            "In iteration 51's result is -0.73908513321516064166\n",
            "In iteration 52's result is -0.73908513321516064166\n",
            "In iteration 53's result is -0.73908513321516064166\n",
            "In iteration 54's result is -0.73908513321516064166\n",
            "In iteration 55's result is -0.73908513321516064166\n",
            "In iteration 56's result is -0.73908513321516064166\n",
            "In iteration 57's result is -0.73908513321516064166\n",
            "In iteration 58's result is -0.73908513321516064166\n",
            "In iteration 59's result is -0.73908513321516064166\n",
            "In iteration 60's result is -0.73908513321516064166\n",
            "In iteration 61's result is -0.73908513321516064166\n",
            "In iteration 62's result is -0.73908513321516064166\n",
            "In iteration 63's result is -0.73908513321516064166\n",
            "In iteration 64's result is -0.73908513321516064166\n",
            "In iteration 65's result is -0.73908513321516064166\n",
            "In iteration 66's result is -0.73908513321516064166\n",
            "In iteration 67's result is -0.73908513321516064166\n",
            "In iteration 68's result is -0.73908513321516064166\n",
            "In iteration 69's result is -0.73908513321516064166\n",
            "In iteration 70's result is -0.73908513321516064166\n",
            "In iteration 71's result is -0.73908513321516064166\n",
            "In iteration 72's result is -0.73908513321516064166\n",
            "In iteration 73's result is -0.73908513321516064166\n",
            "In iteration 74's result is -0.73908513321516064166\n",
            "In iteration 75's result is -0.73908513321516064166\n",
            "In iteration 76's result is -0.73908513321516064166\n",
            "In iteration 77's result is -0.73908513321516064166\n",
            "In iteration 78's result is -0.73908513321516064166\n",
            "In iteration 79's result is -0.73908513321516064166\n",
            "In iteration 80's result is -0.73908513321516064166\n",
            "In iteration 81's result is -0.73908513321516064166\n",
            "In iteration 82's result is -0.73908513321516064166\n",
            "In iteration 83's result is -0.73908513321516064166\n",
            "In iteration 84's result is -0.73908513321516064166\n",
            "In iteration 85's result is -0.73908513321516064166\n",
            "In iteration 86's result is -0.73908513321516064166\n",
            "In iteration 87's result is -0.73908513321516064166\n",
            "In iteration 88's result is -0.73908513321516064166\n",
            "In iteration 89's result is -0.73908513321516064166\n",
            "In iteration 90's result is -0.73908513321516064166\n",
            "In iteration 91's result is -0.73908513321516064166\n",
            "In iteration 92's result is -0.73908513321516064166\n",
            "In iteration 93's result is -0.73908513321516064166\n",
            "In iteration 94's result is -0.73908513321516064166\n",
            "In iteration 95's result is -0.73908513321516064166\n",
            "In iteration 96's result is -0.73908513321516064166\n",
            "In iteration 97's result is -0.73908513321516064166\n",
            "In iteration 98's result is -0.73908513321516064166\n",
            "In iteration 99's result is -0.73908513321516064166\n",
            "In iteration 100's result is -0.73908513321516064166\n"
          ]
        }
      ],
      "source": [
        "numbers = []\n",
        "x0 = 0\n",
        "numbers.append(x0)\n",
        "iterations = 100\n",
        "for i in range(iterations):\n",
        "    x_n = newton_function(f=f, f_prime=f_prime, x0=numbers[i])\n",
        "    numbers.append(x_n)\n",
        "    print(\"In iteration {}'s result is {}\".format(i + 1, x_n))"
      ]
    },
    {
      "cell_type": "markdown",
      "source": [
        "This plot shows how the solution generated from every iteration of the \n",
        "Newton's method appraoches the correct solution of the equation."
      ],
      "metadata": {
        "id": "KZg7x9kd279o"
      }
    },
    {
      "cell_type": "code",
      "execution_count": 25,
      "metadata": {
        "colab": {
          "base_uri": "https://localhost:8080/",
          "height": 282
        },
        "id": "fsaje6aAvqJt",
        "outputId": "d318a539-cb0a-4f69-ce35-725d1364f3e2"
      },
      "outputs": [
        {
          "output_type": "execute_result",
          "data": {
            "text/plain": [
              "[<matplotlib.lines.Line2D at 0x7f7fa0c4b340>]"
            ]
          },
          "metadata": {},
          "execution_count": 25
        },
        {
          "output_type": "display_data",
          "data": {
            "text/plain": [
              "<Figure size 432x288 with 1 Axes>"
            ],
            "image/png": "[encoded data removed]"
          },
          "metadata": {
            "needs_background": "light"
          }
        }
      ],
      "source": [
        "y = range(101)\n",
        "plt.plot(numbers, y)"
      ]
    }
  ],
  "metadata": {
    "colab": {
      "provenance": []
    },
    "kernelspec": {
      "display_name": "base",
      "language": "python",
      "name": "python3"
    },
    "language_info": {
      "codemirror_mode": {
        "name": "ipython",
        "version": 3
      },
      "file_extension": ".py",
      "mimetype": "text/x-python",
      "name": "python",
      "nbconvert_exporter": "python",
      "pygments_lexer": "ipython3",
      "version": "3.9.13"
    },
    "vscode": {
      "interpreter": {
        "hash": "d6b351f3cc0cfd67d72be80e6b4837fe8868a2d6b89e8661c798e2b3fb5dcebc"
      }
    }
  },
  "nbformat": 4,
  "nbformat_minor": 0
}