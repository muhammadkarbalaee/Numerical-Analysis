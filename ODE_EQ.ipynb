{
 "cells": [
  {
   "cell_type": "code",
   "execution_count": 15,
   "id": "bed5c752",
   "metadata": {},
   "outputs": [],
   "source": [
    "import numpy as np \n",
    "import pandas as pd \n",
    "import matplotlib.pyplot as plt\n",
    "from sympy import *\n",
    "\n",
    "PERCISION = 20"
   ]
  },
  {
   "cell_type": "code",
   "execution_count": 16,
   "id": "6614bac8",
   "metadata": {},
   "outputs": [],
   "source": [
    "x = symbols(\"x\")\n",
    "y1= symbols(\"y1\") \n",
    "y2= symbols(\"y2\")\n",
    "y3= symbols(\"y3\")\n",
    "y = Function(\"y\")(x) \n",
    "\n",
    "function = Derivative(Derivative(y,x)) + x*Derivative(y,x) + y - sqrt(1+x)"
   ]
  },
  {
   "cell_type": "code",
   "execution_count": 28,
   "id": "3a7b74a1",
   "metadata": {},
   "outputs": [
    {
     "data": {
      "text/latex": [
       "$\\displaystyle x \\frac{d}{d x} y{\\left(x \\right)} - \\sqrt{x + 1} + y{\\left(x \\right)} + \\frac{d^{2}}{d x^{2}} y{\\left(x \\right)}$"
      ],
      "text/plain": [
       "x*Derivative(y(x), x) - sqrt(x + 1) + y(x) + Derivative(y(x), (x, 2))"
      ]
     },
     "execution_count": 28,
     "metadata": {},
     "output_type": "execute_result"
    }
   ],
   "source": [
    "function"
   ]
  },
  {
   "cell_type": "code",
   "execution_count": 23,
   "id": "a42b3d6a",
   "metadata": {},
   "outputs": [
    {
     "data": {
      "text/plain": [
       "array([0.        , 0.11111111, 0.22222222, 0.33333333, 0.44444444,\n",
       "       0.55555556, 0.66666667, 0.77777778, 0.88888889, 1.        ])"
      ]
     },
     "execution_count": 23,
     "metadata": {},
     "output_type": "execute_result"
    }
   ],
   "source": [
    "n = 10\n",
    "period = np.linspace(0, 1,n)\n",
    "period"
   ]
  },
  {
   "cell_type": "code",
   "execution_count": 24,
   "id": "cc41e244",
   "metadata": {},
   "outputs": [
    {
     "name": "stdout",
     "output_type": "stream",
     "text": [
      "x*Derivative(y(x), x) - sqrt(x + 1) + y(x) + Derivative(y(x), (x, 2))\n"
     ]
    }
   ],
   "source": [
    "number_eq = 3\n",
    "symbols_y = [] * number_eq\n",
    "\n",
    "equations = [] * number_eq\n",
    "\n",
    "x = symbols(\"x\")\n",
    "\n",
    "for i in range(number_eq):\n",
    "    symbols_y.append(symbols(\"y\"+str(i + 1)))\n",
    "   \n",
    "\n",
    "y = Function(\"y\")(x) \n",
    "\n",
    "function = Derivative(Derivative(y,x)) + x*Derivative(y,x) + y - sqrt(1+x)\n",
    "\n",
    "symbols_y\n",
    "print(function)"
   ]
  },
  {
   "cell_type": "code",
   "execution_count": 25,
   "id": "2dba63d8",
   "metadata": {},
   "outputs": [
    {
     "data": {
      "text/plain": [
       "array([0.        , 0.11111111, 0.22222222, 0.33333333, 0.44444444,\n",
       "       0.55555556, 0.66666667, 0.77777778, 0.88888889, 1.        ])"
      ]
     },
     "execution_count": 25,
     "metadata": {},
     "output_type": "execute_result"
    }
   ],
   "source": [
    "period"
   ]
  },
  {
   "cell_type": "code",
   "execution_count": 26,
   "id": "2b1d8cee",
   "metadata": {},
   "outputs": [],
   "source": [
    "def solve_eq(x_1 , x_n, symbols_y):\n",
    "    \n",
    "    equations.append((symbols_y[1] - 2*symbols_y[0] + x_1 )/((0.25)**2) - (period[1]*(symbols_y[1]-x_1)/(0.5)) + symbols_y[0] - sqrt(1+period[1]))\n",
    "   \n",
    "    for i in range(2,number_eq):\n",
    "        equations.append((symbols_y[i] - 2*symbols_y[i - 1] + symbols_y[i - 2])/((0.25)**2) - period[i]*(symbols_y[i] - symbols_y[i - 2])/(0.5) + symbols_y[i - 1] - sqrt(1+period[i]))\n",
    "        \n",
    "    equations.append((x_n - 2*symbols_y[number_eq - 2] + symbols_y[number_eq - 3] )/((0.25)**2) - period[number_eq-2]*(x_n-symbols_y[number_eq - 3])/(0.5) + symbols_y[number_eq - 2] - sqrt(1+period[number_eq - 2]))\n",
    "\n",
    "    symbols_y=tuple(symbols_y)\n",
    "    result = solve(equations,symbols_y)\n",
    "    print(result)"
   ]
  },
  {
   "cell_type": "code",
   "execution_count": 27,
   "id": "e1006ab2",
   "metadata": {},
   "outputs": [
    {
     "name": "stdout",
     "output_type": "stream",
     "text": [
      "{y1: 23.0223965279589, y2: 24.7375736921201, y3: 25.0315589166760}\n"
     ]
    }
   ],
   "source": [
    "solve_eq(20,25,symbols_y)"
   ]
  },
  {
   "cell_type": "code",
   "execution_count": 22,
   "id": "c1dd75f4",
   "metadata": {},
   "outputs": [
    {
     "data": {
      "text/latex": [
       "$\\displaystyle - 32.0 y_{1} + 16.0 y_{2} + 320.0$"
      ],
      "text/plain": [
       "-32.0*y1 + 16.0*y2 + 320.0"
      ]
     },
     "execution_count": 22,
     "metadata": {},
     "output_type": "execute_result"
    }
   ],
   "source": [
    "(symbols_y[1] - 2*symbols_y[0] + 20 )/((0.25)**2)"
   ]
  }
 ],
 "metadata": {
  "kernelspec": {
   "display_name": "Python 3 (ipykernel)",
   "language": "python",
   "name": "python3"
  },
  "language_info": {
   "codemirror_mode": {
    "name": "ipython",
    "version": 3
   },
   "file_extension": ".py",
   "mimetype": "text/x-python",
   "name": "python",
   "nbconvert_exporter": "python",
   "pygments_lexer": "ipython3",
   "version": "3.9.12"
  }
 },
 "nbformat": 4,
 "nbformat_minor": 5
}
