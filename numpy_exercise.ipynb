{
 "cells": [
  {
   "cell_type": "markdown",
   "id": "794cf1ce",
   "metadata": {},
   "source": [
    "Reza Mosavi 400222100"
   ]
  },
  {
   "cell_type": "code",
   "execution_count": 6,
   "id": "3578f80d",
   "metadata": {},
   "outputs": [],
   "source": [
    "import numpy as np\n",
    "import pandas as pd"
   ]
  },
  {
   "cell_type": "code",
   "execution_count": 7,
   "id": "c9edad8e",
   "metadata": {},
   "outputs": [
    {
     "data": {
      "text/plain": [
       "array([['2022-01-01', 'New York', 0.5],\n",
       "       ['2022-01-01', 'Los Angeles', 20.5],\n",
       "       ['2022-01-01', 'Miami', 24.7],\n",
       "       ['2022-01-02', 'New York', 2.3],\n",
       "       ['2022-01-02', 'Los Angeles', 18.4],\n",
       "       ['2022-01-02', 'Miami', 22.9],\n",
       "       ['2022-01-03', 'New York', 4.8],\n",
       "       ['2022-01-03', 'Los Angeles', 15.9],\n",
       "       ['2022-01-03', 'Miami', 21.2],\n",
       "       ['2022-01-04', 'New York', 3.2],\n",
       "       ['2022-01-04', 'Los Angeles', 16.1],\n",
       "       ['2022-01-04', 'Miami', 23.5],\n",
       "       ['2022-01-05', 'New York', -1.9],\n",
       "       ['2022-01-05', 'Los Angeles', 22.8],\n",
       "       ['2022-01-05', 'Miami', 20.1],\n",
       "       ['2022-01-06', 'New York', -2.1],\n",
       "       ['2022-01-06', 'Los Angeles', 23.5],\n",
       "       ['2022-01-06', 'Miami', 25.3],\n",
       "       ['2022-01-07', 'New York', 1.3],\n",
       "       ['2022-01-07', 'Los Angeles', 20.3],\n",
       "       ['2022-01-07', 'Miami', 21.8],\n",
       "       ['2022-01-08', 'New York', 4.2],\n",
       "       ['2022-01-08', 'Los Angeles', 19.7],\n",
       "       ['2022-01-08', 'Miami', 22.4],\n",
       "       ['2022-01-09', 'New York', 5.8],\n",
       "       ['2022-01-09', 'Los Angeles', 18.8],\n",
       "       ['2022-01-09', 'Miami', 20.5],\n",
       "       ['2022-01-10', 'New York', -1.1],\n",
       "       ['2022-01-10', 'Los Angeles', 22.1],\n",
       "       ['2022-01-10', 'Miami', 23.1],\n",
       "       ['2022-01-11', 'New York', -4.6],\n",
       "       ['2022-01-11', 'Los Angeles', 21.2],\n",
       "       ['2022-01-11', 'Miami', 25.8],\n",
       "       ['2022-01-12', 'New York', -7.3],\n",
       "       ['2022-01-12', 'Los Angeles', 24.4],\n",
       "       ['2022-01-12', 'Miami', 22.6],\n",
       "       ['2022-01-13', 'New York', -2.4],\n",
       "       ['2022-01-13', 'Los Angeles', 20.1],\n",
       "       ['2022-01-13', 'Miami', 19.7],\n",
       "       ['2022-01-14', 'New York', 1.5],\n",
       "       ['2022-01-14', 'Los Angeles', 21.5],\n",
       "       ['2022-01-14', 'Miami', 20.2],\n",
       "       ['2022-01-15', 'New York', 2.1],\n",
       "       ['2022-01-15', 'Los Angeles', 18.6],\n",
       "       ['2022-01-15', 'Miami', 21.5],\n",
       "       ['2022-01-16', 'New York', -0.9],\n",
       "       ['2022-01-16', 'Los Angeles', 23.8],\n",
       "       ['2022-01-16', 'Miami', 23.9],\n",
       "       ['2022-01-17', 'New York', -2.7],\n",
       "       ['2022-01-17', 'Los Angeles', 21.3],\n",
       "       ['2022-01-17', 'Miami', 25.3]], dtype=object)"
      ]
     },
     "execution_count": 7,
     "metadata": {},
     "output_type": "execute_result"
    }
   ],
   "source": [
    "temperaturesDataset = pd.read_csv(\"tempratures.csv\")\n",
    "temperaturesDataset = temperaturesDataset.values\n",
    "temperaturesDataset"
   ]
  },
  {
   "cell_type": "code",
   "execution_count": 8,
   "id": "75b98e26",
   "metadata": {},
   "outputs": [
    {
     "data": {
      "text/plain": [
       "(51, 3)"
      ]
     },
     "execution_count": 8,
     "metadata": {},
     "output_type": "execute_result"
    }
   ],
   "source": [
    "temperaturesDataset.shape"
   ]
  },
  {
   "cell_type": "code",
   "execution_count": 24,
   "id": "e09fb435",
   "metadata": {},
   "outputs": [
    {
     "name": "stdout",
     "output_type": "stream",
     "text": [
      "0.15882352941176472\n",
      "22.61764705882353\n",
      "20.529411764705884\n"
     ]
    }
   ],
   "source": [
    "new_york = temperaturesDataset[temperaturesDataset[:,1] == \"New York\"][:,2].mean()\n",
    "miami = temperaturesDataset[temperaturesDataset[:,1] == \"Miami\"][:,2].mean()\n",
    "los_angeles = temperaturesDataset[temperaturesDataset[:,1] == \"Los Angeles\"][:,2].mean()\n",
    "\n",
    "print(new_york)\n",
    "print(miami)\n",
    "print(los_angeles)"
   ]
  },
  {
   "cell_type": "code",
   "execution_count": 25,
   "id": "586b568b",
   "metadata": {},
   "outputs": [
    {
     "name": "stdout",
     "output_type": "stream",
     "text": [
      "5.8\n",
      "25.8\n",
      "24.4\n"
     ]
    }
   ],
   "source": [
    "new_york = temperaturesDataset[temperaturesDataset[:,1] == \"New York\"][:,2].max()\n",
    "miami = temperaturesDataset[temperaturesDataset[:,1] == \"Miami\"][:,2].max()\n",
    "los_angeles = temperaturesDataset[temperaturesDataset[:,1] == \"Los Angeles\"][:,2].max()\n",
    "\n",
    "print(new_york)\n",
    "print(miami)\n",
    "print(los_angeles)"
   ]
  }
 ],
 "metadata": {
  "kernelspec": {
   "display_name": "Python 3 (ipykernel)",
   "language": "python",
   "name": "python3"
  },
  "language_info": {
   "codemirror_mode": {
    "name": "ipython",
    "version": 3
   },
   "file_extension": ".py",
   "mimetype": "text/x-python",
   "name": "python",
   "nbconvert_exporter": "python",
   "pygments_lexer": "ipython3",
   "version": "3.9.12"
  }
 },
 "nbformat": 4,
 "nbformat_minor": 5
}
