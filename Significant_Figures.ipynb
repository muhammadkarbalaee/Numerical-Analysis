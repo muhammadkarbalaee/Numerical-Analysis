{
 "cells": [
  {
   "attachments": {},
   "cell_type": "markdown",
   "metadata": {},
   "source": [
    "# Significant Figures\n",
    "__Author__ : Mohammad Rouintan , 400222042\n",
    "\n",
    "__Course__ : Undergraduate Numerical Analysis Course"
   ]
  },
  {
   "cell_type": "code",
   "execution_count": 1,
   "metadata": {},
   "outputs": [],
   "source": [
    "import numpy as np \n",
    "import pandas as pd\n",
    "import matplotlib.pyplot as plt"
   ]
  },
  {
   "attachments": {},
   "cell_type": "markdown",
   "metadata": {},
   "source": [
    "## Problem 1\n",
    "Assume we use $f (x) = x(\\sqrt{x + 1} − \\sqrt{x})$ for computing error of losing significant figures for big $x$ s. Compute errors for six figures.\n"
   ]
  },
  {
   "attachments": {},
   "cell_type": "markdown",
   "metadata": {},
   "source": [
    "### Part a)\n",
    "$f (x) = x(\\sqrt{x + 1} − \\sqrt{x})$ <br>\n",
    "Find the rounded values with 6 digits and find its errors."
   ]
  },
  {
   "cell_type": "code",
   "execution_count": 20,
   "metadata": {},
   "outputs": [],
   "source": [
    "def function(x):\n",
    "    return x * (np.sqrt(x + 1) - np.sqrt(x))\n",
    "X = [1, 10, 100, 1000, 10000, 100000]\n",
    "exact, approximate, exact_error, relative_error  = [], [], [], []\n",
    "\n",
    "\n",
    "for i in X:\n",
    "    exact.append(function(i))\n",
    "    approximate.append(round(i * (round(np.sqrt(i + 1), 6) - round(np.sqrt(i), 6)), 6))\n",
    "    exact_error.append(round(np.abs(exact[-1] - approximate[-1]), 6))\n",
    "    relative_error.append(round(np.abs(exact[-1] - approximate[-1]) / np.abs(exact[-1]), 6))"
   ]
  },
  {
   "cell_type": "code",
   "execution_count": 21,
   "metadata": {},
   "outputs": [
    {
     "data": {
      "text/html": [
       "<div>\n",
       "<style scoped>\n",
       "    .dataframe tbody tr th:only-of-type {\n",
       "        vertical-align: middle;\n",
       "    }\n",
       "\n",
       "    .dataframe tbody tr th {\n",
       "        vertical-align: top;\n",
       "    }\n",
       "\n",
       "    .dataframe thead th {\n",
       "        text-align: right;\n",
       "    }\n",
       "</style>\n",
       "<table border=\"1\" class=\"dataframe\">\n",
       "  <thead>\n",
       "    <tr style=\"text-align: right;\">\n",
       "      <th></th>\n",
       "      <th>Exact</th>\n",
       "      <th>Approximate</th>\n",
       "      <th>ExactError</th>\n",
       "      <th>RelativeError</th>\n",
       "    </tr>\n",
       "  </thead>\n",
       "  <tbody>\n",
       "    <tr>\n",
       "      <th>1</th>\n",
       "      <td>0.414214</td>\n",
       "      <td>0.414214</td>\n",
       "      <td>0.000000</td>\n",
       "      <td>0.000001</td>\n",
       "    </tr>\n",
       "    <tr>\n",
       "      <th>10</th>\n",
       "      <td>1.543471</td>\n",
       "      <td>1.543470</td>\n",
       "      <td>0.000001</td>\n",
       "      <td>0.000001</td>\n",
       "    </tr>\n",
       "    <tr>\n",
       "      <th>100</th>\n",
       "      <td>4.987562</td>\n",
       "      <td>4.987600</td>\n",
       "      <td>0.000038</td>\n",
       "      <td>0.000008</td>\n",
       "    </tr>\n",
       "    <tr>\n",
       "      <th>1000</th>\n",
       "      <td>15.807437</td>\n",
       "      <td>15.807000</td>\n",
       "      <td>0.000437</td>\n",
       "      <td>0.000028</td>\n",
       "    </tr>\n",
       "    <tr>\n",
       "      <th>10000</th>\n",
       "      <td>49.998750</td>\n",
       "      <td>50.000000</td>\n",
       "      <td>0.001250</td>\n",
       "      <td>0.000025</td>\n",
       "    </tr>\n",
       "    <tr>\n",
       "      <th>100000</th>\n",
       "      <td>158.113488</td>\n",
       "      <td>158.100000</td>\n",
       "      <td>0.013488</td>\n",
       "      <td>0.000085</td>\n",
       "    </tr>\n",
       "  </tbody>\n",
       "</table>\n",
       "</div>"
      ],
      "text/plain": [
       "             Exact  Approximate  ExactError  RelativeError\n",
       "1         0.414214     0.414214    0.000000       0.000001\n",
       "10        1.543471     1.543470    0.000001       0.000001\n",
       "100       4.987562     4.987600    0.000038       0.000008\n",
       "1000     15.807437    15.807000    0.000437       0.000028\n",
       "10000    49.998750    50.000000    0.001250       0.000025\n",
       "100000  158.113488   158.100000    0.013488       0.000085"
      ]
     },
     "execution_count": 21,
     "metadata": {},
     "output_type": "execute_result"
    }
   ],
   "source": [
    "results = pd.DataFrame()\n",
    "results.index = X\n",
    "results['Exact'] = exact\n",
    "results['Approximate'] = approximate\n",
    "results['ExactError'] = exact_error\n",
    "results['RelativeError'] = relative_error\n",
    "results"
   ]
  },
  {
   "attachments": {},
   "cell_type": "markdown",
   "metadata": {},
   "source": [
    "### Part b)\n",
    "$f (x) = x/(\\sqrt{x + 1} + \\sqrt{x})$ <br>\n",
    "Find the rounded values with 6 digits and find its errors."
   ]
  },
  {
   "cell_type": "code",
   "execution_count": 23,
   "metadata": {},
   "outputs": [],
   "source": [
    "def SumTransformation(x):\n",
    "    return x / (np.sqrt(x + 1) + np.sqrt(x))\n",
    "X = [1, 10, 100, 1000, 10000, 100000]\n",
    "exact1, sumTransformation, exact_error1, relative_error1  = [], [], [], []\n",
    "\n",
    "\n",
    "for i in X:\n",
    "    exact1.append(SumTransformation(i))\n",
    "    sumTransformation.append(round(i / (round(np.sqrt(i + 1), 6) + round(np.sqrt(i), 6)), 6))\n",
    "    exact_error1.append(round(np.abs(exact1[-1] - sumTransformation[-1]), 6))\n",
    "    relative_error1.append(round(np.abs(exact1[-1] - sumTransformation[-1]) / np.abs(exact1[-1]), 6))"
   ]
  },
  {
   "cell_type": "code",
   "execution_count": 24,
   "metadata": {},
   "outputs": [
    {
     "data": {
      "text/html": [
       "<div>\n",
       "<style scoped>\n",
       "    .dataframe tbody tr th:only-of-type {\n",
       "        vertical-align: middle;\n",
       "    }\n",
       "\n",
       "    .dataframe tbody tr th {\n",
       "        vertical-align: top;\n",
       "    }\n",
       "\n",
       "    .dataframe thead th {\n",
       "        text-align: right;\n",
       "    }\n",
       "</style>\n",
       "<table border=\"1\" class=\"dataframe\">\n",
       "  <thead>\n",
       "    <tr style=\"text-align: right;\">\n",
       "      <th></th>\n",
       "      <th>Exact</th>\n",
       "      <th>SumTransformation</th>\n",
       "      <th>ExactError</th>\n",
       "      <th>RelativeError</th>\n",
       "    </tr>\n",
       "  </thead>\n",
       "  <tbody>\n",
       "    <tr>\n",
       "      <th>1</th>\n",
       "      <td>0.414214</td>\n",
       "      <td>0.414213</td>\n",
       "      <td>0.000001</td>\n",
       "      <td>0.000001</td>\n",
       "    </tr>\n",
       "    <tr>\n",
       "      <th>10</th>\n",
       "      <td>1.543471</td>\n",
       "      <td>1.543471</td>\n",
       "      <td>0.000000</td>\n",
       "      <td>0.000000</td>\n",
       "    </tr>\n",
       "    <tr>\n",
       "      <th>100</th>\n",
       "      <td>4.987562</td>\n",
       "      <td>4.987562</td>\n",
       "      <td>0.000000</td>\n",
       "      <td>0.000000</td>\n",
       "    </tr>\n",
       "    <tr>\n",
       "      <th>1000</th>\n",
       "      <td>15.807437</td>\n",
       "      <td>15.807437</td>\n",
       "      <td>0.000000</td>\n",
       "      <td>0.000000</td>\n",
       "    </tr>\n",
       "    <tr>\n",
       "      <th>10000</th>\n",
       "      <td>49.998750</td>\n",
       "      <td>49.998750</td>\n",
       "      <td>0.000000</td>\n",
       "      <td>0.000000</td>\n",
       "    </tr>\n",
       "    <tr>\n",
       "      <th>100000</th>\n",
       "      <td>158.113488</td>\n",
       "      <td>158.113488</td>\n",
       "      <td>0.000000</td>\n",
       "      <td>0.000000</td>\n",
       "    </tr>\n",
       "  </tbody>\n",
       "</table>\n",
       "</div>"
      ],
      "text/plain": [
       "             Exact  SumTransformation  ExactError  RelativeError\n",
       "1         0.414214           0.414213    0.000001       0.000001\n",
       "10        1.543471           1.543471    0.000000       0.000000\n",
       "100       4.987562           4.987562    0.000000       0.000000\n",
       "1000     15.807437          15.807437    0.000000       0.000000\n",
       "10000    49.998750          49.998750    0.000000       0.000000\n",
       "100000  158.113488         158.113488    0.000000       0.000000"
      ]
     },
     "execution_count": 24,
     "metadata": {},
     "output_type": "execute_result"
    }
   ],
   "source": [
    "results1 = pd.DataFrame()\n",
    "results1.index = X\n",
    "results1['Exact'] = exact1\n",
    "results1['SumTransformation'] = sumTransformation\n",
    "results1['ExactError'] = exact_error1\n",
    "results1['RelativeError'] = relative_error1\n",
    "results1"
   ]
  },
  {
   "cell_type": "code",
   "execution_count": 25,
   "metadata": {},
   "outputs": [
    {
     "data": {
      "text/html": [
       "<div>\n",
       "<style scoped>\n",
       "    .dataframe tbody tr th:only-of-type {\n",
       "        vertical-align: middle;\n",
       "    }\n",
       "\n",
       "    .dataframe tbody tr th {\n",
       "        vertical-align: top;\n",
       "    }\n",
       "\n",
       "    .dataframe thead th {\n",
       "        text-align: right;\n",
       "    }\n",
       "</style>\n",
       "<table border=\"1\" class=\"dataframe\">\n",
       "  <thead>\n",
       "    <tr style=\"text-align: right;\">\n",
       "      <th></th>\n",
       "      <th>Exact</th>\n",
       "      <th>Approximate</th>\n",
       "      <th>ExactError</th>\n",
       "      <th>RelativeError</th>\n",
       "      <th>SumTransformaition</th>\n",
       "    </tr>\n",
       "  </thead>\n",
       "  <tbody>\n",
       "    <tr>\n",
       "      <th>1</th>\n",
       "      <td>0.414214</td>\n",
       "      <td>0.414214</td>\n",
       "      <td>0.000000</td>\n",
       "      <td>0.000001</td>\n",
       "      <td>0.414213</td>\n",
       "    </tr>\n",
       "    <tr>\n",
       "      <th>10</th>\n",
       "      <td>1.543471</td>\n",
       "      <td>1.543470</td>\n",
       "      <td>0.000001</td>\n",
       "      <td>0.000001</td>\n",
       "      <td>1.543471</td>\n",
       "    </tr>\n",
       "    <tr>\n",
       "      <th>100</th>\n",
       "      <td>4.987562</td>\n",
       "      <td>4.987600</td>\n",
       "      <td>0.000038</td>\n",
       "      <td>0.000008</td>\n",
       "      <td>4.987562</td>\n",
       "    </tr>\n",
       "    <tr>\n",
       "      <th>1000</th>\n",
       "      <td>15.807437</td>\n",
       "      <td>15.807000</td>\n",
       "      <td>0.000437</td>\n",
       "      <td>0.000028</td>\n",
       "      <td>15.807437</td>\n",
       "    </tr>\n",
       "    <tr>\n",
       "      <th>10000</th>\n",
       "      <td>49.998750</td>\n",
       "      <td>50.000000</td>\n",
       "      <td>0.001250</td>\n",
       "      <td>0.000025</td>\n",
       "      <td>49.998750</td>\n",
       "    </tr>\n",
       "    <tr>\n",
       "      <th>100000</th>\n",
       "      <td>158.113488</td>\n",
       "      <td>158.100000</td>\n",
       "      <td>0.013488</td>\n",
       "      <td>0.000085</td>\n",
       "      <td>158.113488</td>\n",
       "    </tr>\n",
       "  </tbody>\n",
       "</table>\n",
       "</div>"
      ],
      "text/plain": [
       "             Exact  Approximate  ExactError  RelativeError  SumTransformaition\n",
       "1         0.414214     0.414214    0.000000       0.000001            0.414213\n",
       "10        1.543471     1.543470    0.000001       0.000001            1.543471\n",
       "100       4.987562     4.987600    0.000038       0.000008            4.987562\n",
       "1000     15.807437    15.807000    0.000437       0.000028           15.807437\n",
       "10000    49.998750    50.000000    0.001250       0.000025           49.998750\n",
       "100000  158.113488   158.100000    0.013488       0.000085          158.113488"
      ]
     },
     "execution_count": 25,
     "metadata": {},
     "output_type": "execute_result"
    }
   ],
   "source": [
    "results['SumTransformaition'] = results1['SumTransformation']\n",
    "results"
   ]
  },
  {
   "attachments": {},
   "cell_type": "markdown",
   "metadata": {},
   "source": [
    "## Conclusion\n",
    "We have error in part (a). error increases when number increases but in part (b) error is zero with sum transformation method."
   ]
  },
  {
   "attachments": {},
   "cell_type": "markdown",
   "metadata": {},
   "source": [
    "## Problem 2"
   ]
  },
  {
   "attachments": {},
   "cell_type": "markdown",
   "metadata": {},
   "source": [
    "### Part a)\n",
    "Compute rounding of $\\sqrt{2}, \\sqrt{3}, \\sqrt{23}$ with three precise figures."
   ]
  },
  {
   "cell_type": "code",
   "execution_count": 27,
   "metadata": {},
   "outputs": [
    {
     "name": "stdout",
     "output_type": "stream",
     "text": [
      "Rounding With Three Precise :\n",
      "1.414\n",
      "1.732\n",
      "4.796\n"
     ]
    }
   ],
   "source": [
    "print('Rounding With Three Precise :')\n",
    "print(round(np.sqrt(2), 3))\n",
    "print(round(np.sqrt(3), 3))\n",
    "print(round(np.sqrt(23), 3))"
   ]
  },
  {
   "attachments": {},
   "cell_type": "markdown",
   "metadata": {},
   "source": [
    "### Part b)\n",
    "Compute rounding of $\\sqrt{2}, \\sqrt{3}, \\sqrt{23}$ with four precise figures."
   ]
  },
  {
   "cell_type": "code",
   "execution_count": 28,
   "metadata": {},
   "outputs": [
    {
     "name": "stdout",
     "output_type": "stream",
     "text": [
      "Rounding With Four Precise :\n",
      "1.4142\n",
      "1.7321\n",
      "4.7958\n"
     ]
    }
   ],
   "source": [
    "print('Rounding With Four Precise :')\n",
    "print(round(np.sqrt(2), 4))\n",
    "print(round(np.sqrt(3), 4))\n",
    "print(round(np.sqrt(23), 4))"
   ]
  },
  {
   "attachments": {},
   "cell_type": "markdown",
   "metadata": {},
   "source": [
    "### Part c)\n",
    "Compute error for each of them in above sections."
   ]
  },
  {
   "cell_type": "code",
   "execution_count": 32,
   "metadata": {},
   "outputs": [
    {
     "name": "stdout",
     "output_type": "stream",
     "text": [
      "Error For Three Precise :\n",
      "0.00021\n",
      "5e-05\n",
      "0.00017\n"
     ]
    }
   ],
   "source": [
    "print('Error For Three Precise :')\n",
    "print(round(np.abs(np.sqrt(2) - round(np.sqrt(2), 3)), 5))\n",
    "print(round(np.abs(np.sqrt(3) - round(np.sqrt(3), 3)), 5))\n",
    "print(round(np.abs(np.sqrt(23) - round(np.sqrt(23), 3)), 5))"
   ]
  },
  {
   "cell_type": "code",
   "execution_count": 33,
   "metadata": {},
   "outputs": [
    {
     "name": "stdout",
     "output_type": "stream",
     "text": [
      "Error For Four Precise :\n",
      "1e-05\n",
      "5e-05\n",
      "3e-05\n"
     ]
    }
   ],
   "source": [
    "print('Error For Four Precise :')\n",
    "print(round(np.abs(np.sqrt(2) - round(np.sqrt(2), 4)), 5))\n",
    "print(round(np.abs(np.sqrt(3) - round(np.sqrt(3), 4)), 5))\n",
    "print(round(np.abs(np.sqrt(23) - round(np.sqrt(23), 4)), 5))"
   ]
  },
  {
   "attachments": {},
   "cell_type": "markdown",
   "metadata": {},
   "source": [
    "## Conclusion\n",
    "The maximum error in rounding is $0.5 * 10^{-n}$"
   ]
  },
  {
   "attachments": {},
   "cell_type": "markdown",
   "metadata": {},
   "source": [
    "### Part d)\n",
    " Consider we use $f(x) = \\frac{1 − cos(x)}{x^{2}}$ for computing error of losing significant figures for small $x$ s."
   ]
  },
  {
   "cell_type": "code",
   "execution_count": 41,
   "metadata": {},
   "outputs": [],
   "source": [
    "def function(x):\n",
    "    return (1 - np.cos(x)) / (x ** 2)\n",
    "\n",
    "def SumTransformation(x):\n",
    "    return (np.sin(x) ** 2) / ((x ** 2) * (1 + np.cos(x)))\n",
    "\n",
    "X = [1, 0.1, 0.01, 0.001, 0.0001, 0.00001]\n",
    "exact, approximate, exact_error, relative_error, sumTransformation  = [], [], [], [], []\n",
    "\n",
    "for i in X:\n",
    "    exact.append(function(i))\n",
    "    approximate.append(round(function(i), 4))\n",
    "    exact_error.append(round(np.abs(exact[-1] - approximate[-1]), 15))\n",
    "    relative_error.append(round(np.abs(exact[-1] - approximate[-1]) / np.abs(exact[-1]), 15))\n",
    "    sumTransformation.append(SumTransformation(i))"
   ]
  },
  {
   "cell_type": "code",
   "execution_count": 40,
   "metadata": {},
   "outputs": [
    {
     "data": {
      "text/html": [
       "<div>\n",
       "<style scoped>\n",
       "    .dataframe tbody tr th:only-of-type {\n",
       "        vertical-align: middle;\n",
       "    }\n",
       "\n",
       "    .dataframe tbody tr th {\n",
       "        vertical-align: top;\n",
       "    }\n",
       "\n",
       "    .dataframe thead th {\n",
       "        text-align: right;\n",
       "    }\n",
       "</style>\n",
       "<table border=\"1\" class=\"dataframe\">\n",
       "  <thead>\n",
       "    <tr style=\"text-align: right;\">\n",
       "      <th></th>\n",
       "      <th>Exact</th>\n",
       "      <th>Approximate</th>\n",
       "      <th>ExactError</th>\n",
       "      <th>RelativeError</th>\n",
       "      <th>SumTransformaition</th>\n",
       "    </tr>\n",
       "  </thead>\n",
       "  <tbody>\n",
       "    <tr>\n",
       "      <th>1.00000</th>\n",
       "      <td>0.459698</td>\n",
       "      <td>0.4597</td>\n",
       "      <td>2.305868e-06</td>\n",
       "      <td>5.016053e-06</td>\n",
       "      <td>0.459698</td>\n",
       "    </tr>\n",
       "    <tr>\n",
       "      <th>0.10000</th>\n",
       "      <td>0.499583</td>\n",
       "      <td>0.4996</td>\n",
       "      <td>1.652780e-05</td>\n",
       "      <td>3.308317e-05</td>\n",
       "      <td>0.499583</td>\n",
       "    </tr>\n",
       "    <tr>\n",
       "      <th>0.01000</th>\n",
       "      <td>0.499996</td>\n",
       "      <td>0.5000</td>\n",
       "      <td>4.166653e-06</td>\n",
       "      <td>8.333375e-06</td>\n",
       "      <td>0.499996</td>\n",
       "    </tr>\n",
       "    <tr>\n",
       "      <th>0.00100</th>\n",
       "      <td>0.500000</td>\n",
       "      <td>0.5000</td>\n",
       "      <td>4.167450e-08</td>\n",
       "      <td>8.334900e-08</td>\n",
       "      <td>0.500000</td>\n",
       "    </tr>\n",
       "    <tr>\n",
       "      <th>0.00010</th>\n",
       "      <td>0.500000</td>\n",
       "      <td>0.5000</td>\n",
       "      <td>3.038736e-09</td>\n",
       "      <td>6.077471e-09</td>\n",
       "      <td>0.500000</td>\n",
       "    </tr>\n",
       "    <tr>\n",
       "      <th>0.00001</th>\n",
       "      <td>0.500000</td>\n",
       "      <td>0.5000</td>\n",
       "      <td>4.137019e-08</td>\n",
       "      <td>8.274036e-08</td>\n",
       "      <td>0.500000</td>\n",
       "    </tr>\n",
       "  </tbody>\n",
       "</table>\n",
       "</div>"
      ],
      "text/plain": [
       "            Exact  Approximate    ExactError  RelativeError  \\\n",
       "1.00000  0.459698       0.4597  2.305868e-06   5.016053e-06   \n",
       "0.10000  0.499583       0.4996  1.652780e-05   3.308317e-05   \n",
       "0.01000  0.499996       0.5000  4.166653e-06   8.333375e-06   \n",
       "0.00100  0.500000       0.5000  4.167450e-08   8.334900e-08   \n",
       "0.00010  0.500000       0.5000  3.038736e-09   6.077471e-09   \n",
       "0.00001  0.500000       0.5000  4.137019e-08   8.274036e-08   \n",
       "\n",
       "         SumTransformaition  \n",
       "1.00000            0.459698  \n",
       "0.10000            0.499583  \n",
       "0.01000            0.499996  \n",
       "0.00100            0.500000  \n",
       "0.00010            0.500000  \n",
       "0.00001            0.500000  "
      ]
     },
     "execution_count": 40,
     "metadata": {},
     "output_type": "execute_result"
    }
   ],
   "source": [
    "results = pd.DataFrame()\n",
    "results.index = X\n",
    "results['Exact'] = exact\n",
    "results['Approximate'] = approximate\n",
    "results['ExactError'] = exact_error\n",
    "results['RelativeError'] = relative_error\n",
    "results['SumTransformaition'] = sumTransformation\n",
    "results"
   ]
  },
  {
   "attachments": {},
   "cell_type": "markdown",
   "metadata": {},
   "source": [
    "## Conclusion\n",
    "Error decreases when number dencreases but error is zero with sum transformation method."
   ]
  }
 ],
 "metadata": {
  "kernelspec": {
   "display_name": "Python 3 (ipykernel)",
   "language": "python",
   "name": "python3"
  },
  "language_info": {
   "codemirror_mode": {
    "name": "ipython",
    "version": 3
   },
   "file_extension": ".py",
   "mimetype": "text/x-python",
   "name": "python",
   "nbconvert_exporter": "python",
   "pygments_lexer": "ipython3",
   "version": "3.9.12"
  },
  "orig_nbformat": 4,
  "vscode": {
   "interpreter": {
    "hash": "aee8b7b246df8f9039afb4144a1f6fd8d2ca17a180786b69acc140d282b71a49"
   }
  }
 },
 "nbformat": 4,
 "nbformat_minor": 2
}
